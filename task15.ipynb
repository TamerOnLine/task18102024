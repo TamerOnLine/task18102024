{
 "cells": [
  {
   "cell_type": "markdown",
   "metadata": {},
   "source": [
    "- Generate a List of Random Numbers"
   ]
  },
  {
   "cell_type": "code",
   "execution_count": 1,
   "metadata": {},
   "outputs": [
    {
     "name": "stdout",
     "output_type": "stream",
     "text": [
      "[14, 9, 91, 51, 39, 42, 11, 79, 98, 73]\n"
     ]
    }
   ],
   "source": [
    "import random\n",
    "\n",
    "# Generate a list of 10 random numbers between 1 and 100\n",
    "random_numbers = [random.randint(1, 100) for _ in range(10)]\n",
    "print(random_numbers)\n"
   ]
  },
  {
   "cell_type": "code",
   "execution_count": 10,
   "metadata": {},
   "outputs": [
    {
     "name": "stdout",
     "output_type": "stream",
     "text": [
      "1406932606\n",
      "654583775\n",
      "1449466924\n",
      "[7, 76, 25]\n"
     ]
    }
   ],
   "source": [
    "# Set up initial values\n",
    "seed = 12345  # You can change this to alter the sequence of random numbers\n",
    "a = 1103515245\n",
    "c = 12345\n",
    "m = 2**31\n",
    "\n",
    "# Function to generate a random number using LCG\n",
    "def generate_random():\n",
    "    global seed\n",
    "    seed = (a * seed + c) % m\n",
    "    print(seed)\n",
    "    return seed\n",
    "\n",
    "\n",
    "# Generate a list of 10 random numbers between 1 and 100\n",
    "random_numbers = [(generate_random() % 100) + 1 for _ in range(3)]\n",
    "print(random_numbers)\n"
   ]
  }
 ],
 "metadata": {
  "kernelspec": {
   "display_name": "Python 3",
   "language": "python",
   "name": "python3"
  },
  "language_info": {
   "codemirror_mode": {
    "name": "ipython",
    "version": 3
   },
   "file_extension": ".py",
   "mimetype": "text/x-python",
   "name": "python",
   "nbconvert_exporter": "python",
   "pygments_lexer": "ipython3",
   "version": "3.13.0"
  }
 },
 "nbformat": 4,
 "nbformat_minor": 2
}
