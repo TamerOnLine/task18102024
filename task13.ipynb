{
 "cells": [
  {
   "cell_type": "markdown",
   "metadata": {},
   "source": [
    "- Calculate the Median of a List"
   ]
  },
  {
   "cell_type": "code",
   "execution_count": 1,
   "metadata": {},
   "outputs": [
    {
     "name": "stdout",
     "output_type": "stream",
     "text": [
      "The median is: 9\n"
     ]
    }
   ],
   "source": [
    "def calculate_median(lst):\n",
    "    sorted_lst = sorted(lst)\n",
    "    n = len(sorted_lst)\n",
    "    mid = n // 2\n",
    "\n",
    "    if n % 2 == 0:\n",
    "        # Even number of elements\n",
    "        median = (sorted_lst[mid - 1] + sorted_lst[mid]) / 2\n",
    "    else:\n",
    "        # Odd number of elements\n",
    "        median = sorted_lst[mid]\n",
    "\n",
    "    return median\n",
    "\n",
    "# Example usage\n",
    "lst = [12, 5, 18, 7, 9]\n",
    "median = calculate_median(lst)\n",
    "print(f\"The median is: {median}\")\n"
   ]
  },
  {
   "cell_type": "code",
   "execution_count": 3,
   "metadata": {},
   "outputs": [
    {
     "name": "stdout",
     "output_type": "stream",
     "text": [
      "The median is: 8.0\n"
     ]
    }
   ],
   "source": [
    "# Function to count the number of elements in a list\n",
    "def count_elements(lst):\n",
    "    count = 0\n",
    "    for _ in lst:\n",
    "        count += 1\n",
    "    return count\n",
    "\n",
    "# Manual bubble sort algorithm to sort the list\n",
    "def bubble_sort(lst):\n",
    "    n = count_elements(lst)\n",
    "    for i in range(n):\n",
    "        for j in range(0, n-i-1):\n",
    "            if lst[j] > lst[j+1]:\n",
    "                # Swap elements if they are in the wrong order\n",
    "                lst[j], lst[j+1] = lst[j+1], lst[j]\n",
    "\n",
    "# Function to calculate the median\n",
    "def calculate_median(lst):\n",
    "    # Sort the list manually\n",
    "    bubble_sort(lst)\n",
    "    \n",
    "    # Count the elements manually\n",
    "    n = count_elements(lst)\n",
    "    mid = n // 2\n",
    "\n",
    "    if n % 2 == 0:\n",
    "        # If even number of elements, return the average of the two middle elements\n",
    "        median = (lst[mid - 1] + lst[mid]) / 2\n",
    "    else:\n",
    "        # If odd number of elements, return the middle element\n",
    "        median = lst[mid]\n",
    "\n",
    "    return median\n",
    "\n",
    "# Example\n",
    "lst = [12, 5, 7, 9]\n",
    "median = calculate_median(lst)\n",
    "print(f\"The median is: {median}\")\n"
   ]
  }
 ],
 "metadata": {
  "kernelspec": {
   "display_name": "Python 3",
   "language": "python",
   "name": "python3"
  },
  "language_info": {
   "codemirror_mode": {
    "name": "ipython",
    "version": 3
   },
   "file_extension": ".py",
   "mimetype": "text/x-python",
   "name": "python",
   "nbconvert_exporter": "python",
   "pygments_lexer": "ipython3",
   "version": "3.13.0"
  }
 },
 "nbformat": 4,
 "nbformat_minor": 2
}
