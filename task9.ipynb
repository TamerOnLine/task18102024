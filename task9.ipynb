{
 "cells": [
  {
   "cell_type": "markdown",
   "metadata": {},
   "source": [
    "- Count the Number of Words in a String"
   ]
  },
  {
   "cell_type": "code",
   "execution_count": 1,
   "metadata": {},
   "outputs": [
    {
     "name": "stdout",
     "output_type": "stream",
     "text": [
      "Number of words: 4\n"
     ]
    }
   ],
   "source": [
    "def count_words(text):\n",
    "    count = 0\n",
    "    in_word = False\n",
    "    \n",
    "    for char in text:\n",
    "        # Check if the character is part of a word (not a space)\n",
    "        if char != ' ' and not in_word:\n",
    "            count += 1\n",
    "            in_word = True\n",
    "        # If it's a space, we are no longer inside a word\n",
    "        elif char == ' ':\n",
    "            in_word = False\n",
    "\n",
    "    return count\n",
    "\n",
    "# Example\n",
    "text = \"Hello, how are you?\"\n",
    "print(\"Number of words:\", count_words(text))\n"
   ]
  }
 ],
 "metadata": {
  "kernelspec": {
   "display_name": "Python 3",
   "language": "python",
   "name": "python3"
  },
  "language_info": {
   "codemirror_mode": {
    "name": "ipython",
    "version": 3
   },
   "file_extension": ".py",
   "mimetype": "text/x-python",
   "name": "python",
   "nbconvert_exporter": "python",
   "pygments_lexer": "ipython3",
   "version": "3.13.0"
  }
 },
 "nbformat": 4,
 "nbformat_minor": 2
}
