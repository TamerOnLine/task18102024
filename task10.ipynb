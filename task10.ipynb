{
 "cells": [
  {
   "cell_type": "markdown",
   "metadata": {},
   "source": [
    "- Find the Smallest Element in a List"
   ]
  },
  {
   "cell_type": "code",
   "execution_count": 2,
   "metadata": {},
   "outputs": [
    {
     "name": "stdout",
     "output_type": "stream",
     "text": [
      "The smallest element is: 2\n"
     ]
    }
   ],
   "source": [
    "my_list = [5, 3, 8, 2, 9, 2]\n",
    "\n",
    "# Assume the first element is the smallest\n",
    "smallest_element = my_list[0]\n",
    "\n",
    "# Loop through all elements in the list\n",
    "for num in my_list:\n",
    "    if num < smallest_element:\n",
    "        smallest_element = num\n",
    "\n",
    "print(f\"The smallest element is: {smallest_element}\")\n"
   ]
  }
 ],
 "metadata": {
  "kernelspec": {
   "display_name": "Python 3",
   "language": "python",
   "name": "python3"
  },
  "language_info": {
   "codemirror_mode": {
    "name": "ipython",
    "version": 3
   },
   "file_extension": ".py",
   "mimetype": "text/x-python",
   "name": "python",
   "nbconvert_exporter": "python",
   "pygments_lexer": "ipython3",
   "version": "3.13.0"
  }
 },
 "nbformat": 4,
 "nbformat_minor": 2
}
