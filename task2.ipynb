{
 "cells": [
  {
   "cell_type": "markdown",
   "metadata": {},
   "source": [
    "- Word Frequency Counter"
   ]
  },
  {
   "cell_type": "code",
   "execution_count": 1,
   "metadata": {},
   "outputs": [
    {
     "name": "stdout",
     "output_type": "stream",
     "text": [
      "Counter({'programming': 2, 'the': 2, 'is': 1, 'language': 1, 'of': 1, 'future': 1, 'and': 1, 'learning': 1, 'helps': 1, 'solve': 1, 'many': 1, 'problems': 1})\n"
     ]
    }
   ],
   "source": [
    "from collections import Counter\n",
    "import string\n",
    "\n",
    "def word_frequency_counter(text):\n",
    "    # Convert the text to lowercase to avoid case sensitivity\n",
    "    text = text.lower()\n",
    "    \n",
    "    # Remove punctuation\n",
    "    text = text.translate(str.maketrans(\"\", \"\", string.punctuation))\n",
    "    \n",
    "    # Split the text into words\n",
    "    words = text.split()\n",
    "    \n",
    "    # Count the frequency of each word\n",
    "    word_count = Counter(words)\n",
    "    \n",
    "    return word_count\n",
    "\n",
    "# Example text to test the code\n",
    "text = \"Programming is the language of the future, and learning programming helps solve many problems.\"\n",
    "result = word_frequency_counter(text)\n",
    "\n",
    "# Print the result\n",
    "print(result)\n",
    "\n"
   ]
  },
  {
   "cell_type": "code",
   "execution_count": 2,
   "metadata": {},
   "outputs": [
    {
     "name": "stdout",
     "output_type": "stream",
     "text": [
      "programming: 2\n",
      "is: 1\n",
      "the: 2\n",
      "language: 1\n",
      "of: 1\n",
      "future: 1\n",
      "and: 1\n",
      "learning: 1\n",
      "helps: 1\n",
      "solve: 1\n",
      "many: 1\n",
      "problems: 1\n"
     ]
    }
   ],
   "source": [
    "import string\n",
    "\n",
    "# The text you want to analyze for word frequency\n",
    "text = \"Programming is the language of the future, and learning programming helps solve many problems.\"\n",
    "\n",
    "# Converting the text to lowercase manually\n",
    "lowercase_text = \"\"\n",
    "for char in text:\n",
    "    if 'A' <= char <= 'Z':\n",
    "        lowercase_text += chr(ord(char) + 32)\n",
    "    else:\n",
    "        lowercase_text += char\n",
    "\n",
    "# Removing punctuation manually\n",
    "translator = \"\"\n",
    "for char in lowercase_text:\n",
    "    if char not in string.punctuation:\n",
    "        translator += char\n",
    "\n",
    "# Splitting the text into words manually\n",
    "words = []\n",
    "word = \"\"\n",
    "for char in translator:\n",
    "    if char != \" \":\n",
    "        word += char\n",
    "    else:\n",
    "        if word != \"\":\n",
    "            words.append(word)\n",
    "        word = \"\"\n",
    "if word != \"\":  # To add the last word if it exists\n",
    "    words.append(word)\n",
    "\n",
    "# Counting word frequency manually\n",
    "word_count = {}\n",
    "for word in words:\n",
    "    if word in word_count:\n",
    "        word_count[word] += 1\n",
    "    else:\n",
    "        word_count[word] = 1\n",
    "\n",
    "# Printing the result\n",
    "for word, count in word_count.items():\n",
    "    print(f\"{word}: {count}\")\n"
   ]
  }
 ],
 "metadata": {
  "kernelspec": {
   "display_name": "Python 3",
   "language": "python",
   "name": "python3"
  },
  "language_info": {
   "codemirror_mode": {
    "name": "ipython",
    "version": 3
   },
   "file_extension": ".py",
   "mimetype": "text/x-python",
   "name": "python",
   "nbconvert_exporter": "python",
   "pygments_lexer": "ipython3",
   "version": "3.13.0"
  }
 },
 "nbformat": 4,
 "nbformat_minor": 2
}
