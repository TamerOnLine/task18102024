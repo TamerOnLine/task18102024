{
 "cells": [
  {
   "cell_type": "markdown",
   "metadata": {},
   "source": [
    "- Capitalize Each Word in a String"
   ]
  },
  {
   "cell_type": "code",
   "execution_count": 1,
   "metadata": {},
   "outputs": [
    {
     "name": "stdout",
     "output_type": "stream",
     "text": [
      "Capitalize Each Word In A String\n"
     ]
    }
   ],
   "source": [
    "def capitalize_each_word(text):\n",
    "    result = \"\"\n",
    "    capitalize_next = True\n",
    "\n",
    "    for char in text:\n",
    "        if char == \" \":\n",
    "            result += char\n",
    "            capitalize_next = True\n",
    "        elif capitalize_next and char.isalpha():\n",
    "            result += chr(ord(char) - 32)  \n",
    "            capitalize_next = False\n",
    "        else:\n",
    "            result += char\n",
    "\n",
    "    return result\n",
    "\n",
    "text = \"capitalize each word in a string\"\n",
    "capitalized_text = capitalize_each_word(text)\n",
    "print(capitalized_text)\n"
   ]
  },
  {
   "cell_type": "code",
   "execution_count": 2,
   "metadata": {},
   "outputs": [
    {
     "name": "stdout",
     "output_type": "stream",
     "text": [
      "Capitalize Each Word In A String\n"
     ]
    }
   ],
   "source": [
    "text = \"capitalize each word in a string\"\n",
    "capitalized_text = text.title()\n",
    "print(capitalized_text)\n"
   ]
  },
  {
   "cell_type": "code",
   "execution_count": 3,
   "metadata": {},
   "outputs": [
    {
     "name": "stdout",
     "output_type": "stream",
     "text": [
      "Capitalize Each Word In A String\n"
     ]
    }
   ],
   "source": [
    "text = \"capitalize each word in a string\"\n",
    "capitalized_text = ' '.join(word.capitalize() for word in text.split())\n",
    "print(capitalized_text)\n"
   ]
  }
 ],
 "metadata": {
  "kernelspec": {
   "display_name": "Python 3",
   "language": "python",
   "name": "python3"
  },
  "language_info": {
   "codemirror_mode": {
    "name": "ipython",
    "version": 3
   },
   "file_extension": ".py",
   "mimetype": "text/x-python",
   "name": "python",
   "nbconvert_exporter": "python",
   "pygments_lexer": "ipython3",
   "version": "3.13.0"
  }
 },
 "nbformat": 4,
 "nbformat_minor": 2
}
