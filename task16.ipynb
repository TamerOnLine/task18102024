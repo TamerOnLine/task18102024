{
 "cells": [
  {
   "cell_type": "markdown",
   "metadata": {},
   "source": []
  },
  {
   "cell_type": "code",
   "execution_count": 2,
   "metadata": {},
   "outputs": [
    {
     "name": "stdout",
     "output_type": "stream",
     "text": [
      "Hello,thisisastringwithspaces.\n"
     ]
    }
   ],
   "source": [
    "string_with_spaces = \"Hello, this is a string with spaces.\"\n",
    "string_without_spaces = string_with_spaces.replace(\" \", \"\")\n",
    "print(string_without_spaces)\n"
   ]
  },
  {
   "cell_type": "code",
   "execution_count": 3,
   "metadata": {},
   "outputs": [
    {
     "name": "stdout",
     "output_type": "stream",
     "text": [
      "Hello,thisisastringwithspaces.\n"
     ]
    }
   ],
   "source": [
    "string_with_spaces = \"Hello, this is a string with spaces.\"\n",
    "string_without_spaces = \"\".join(string_with_spaces.split())\n",
    "print(string_without_spaces)\n"
   ]
  },
  {
   "cell_type": "code",
   "execution_count": 1,
   "metadata": {},
   "outputs": [
    {
     "name": "stdout",
     "output_type": "stream",
     "text": [
      "Thisisastringwithspaces\n"
     ]
    }
   ],
   "source": [
    "string_with_spaces = \"This is a string with spaces\"\n",
    "string_without_spaces = \"\"\n",
    "\n",
    "for char in string_with_spaces:\n",
    "    if char != \" \":\n",
    "        string_without_spaces += char\n",
    "\n",
    "print(string_without_spaces)\n"
   ]
  }
 ],
 "metadata": {
  "kernelspec": {
   "display_name": "Python 3",
   "language": "python",
   "name": "python3"
  },
  "language_info": {
   "codemirror_mode": {
    "name": "ipython",
    "version": 3
   },
   "file_extension": ".py",
   "mimetype": "text/x-python",
   "name": "python",
   "nbconvert_exporter": "python",
   "pygments_lexer": "ipython3",
   "version": "3.13.0"
  }
 },
 "nbformat": 4,
 "nbformat_minor": 2
}
