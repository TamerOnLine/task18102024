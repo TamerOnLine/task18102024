{
 "cells": [
  {
   "cell_type": "markdown",
   "metadata": {},
   "source": [
    "- Find the Largest Element in a List"
   ]
  },
  {
   "cell_type": "code",
   "execution_count": 1,
   "metadata": {},
   "outputs": [
    {
     "name": "stdout",
     "output_type": "stream",
     "text": [
      "The largest element in the list is: 42\n"
     ]
    }
   ],
   "source": [
    "# List of numbers\n",
    "numbers = [10, 25, 17, 9, 30, 42]\n",
    "\n",
    "# Using the max function to find the largest element\n",
    "largest_number = max(numbers)\n",
    "\n",
    "print(\"The largest element in the list is:\", largest_number)\n"
   ]
  },
  {
   "cell_type": "code",
   "execution_count": 3,
   "metadata": {},
   "outputs": [
    {
     "name": "stdout",
     "output_type": "stream",
     "text": [
      "The largest element in the list is: 50\n"
     ]
    }
   ],
   "source": [
    "# List of numbers\n",
    "numbers = [10, 25, 50, 9, 30, 42]\n",
    "\n",
    "# Assume the first element is the largest\n",
    "largest_number = numbers[0]\n",
    "\n",
    "# Loop through the list to find the largest element\n",
    "for num in numbers:\n",
    "    if num > largest_number:\n",
    "        largest_number = num\n",
    "\n",
    "print(\"The largest element in the list is:\", largest_number)\n"
   ]
  }
 ],
 "metadata": {
  "kernelspec": {
   "display_name": "Python 3",
   "language": "python",
   "name": "python3"
  },
  "language_info": {
   "codemirror_mode": {
    "name": "ipython",
    "version": 3
   },
   "file_extension": ".py",
   "mimetype": "text/x-python",
   "name": "python",
   "nbconvert_exporter": "python",
   "pygments_lexer": "ipython3",
   "version": "3.13.0"
  }
 },
 "nbformat": 4,
 "nbformat_minor": 2
}
